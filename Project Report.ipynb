{
 "cells": [
  {
   "attachments": {},
   "cell_type": "markdown",
   "id": "4f50099b",
   "metadata": {},
   "source": [
    "# Anomaly Detection and Classification using the BETH Cybersecurity Dataset\n",
    "#### SENG 474 - Data Mining   \n",
    "\n",
    "**Contributers:**  \n",
    "*AbdulAziz AlChammat  \n",
    "Cindy Unrau  \n",
    "Salem Ait Ami*"
   ]
  },
  {
   "attachments": {},
   "cell_type": "markdown",
   "id": "910b58e0-72b1-46e7-a8ce-087435717871",
   "metadata": {},
   "source": [
    "## Purpose\n",
    "\n",
    "The purpose of this report is to compare and evaluate different data mining models for anomaly detection on the BETH dataset, a real cybersecurity dataset. By examining the performance and effectiveness of various models, this study aims to provide insights into the most suitable data mining approaches for detecting anomalies in cybersecurity data, thereby enhancing the overall security and resilience of systems. [2] "
   ]
  },
  {
   "attachments": {},
   "cell_type": "markdown",
   "id": "b1815750-f8f9-4da5-bb7d-28f7ab40fd01",
   "metadata": {},
   "source": [
    "## Methodology\n",
    "### Dataset\n",
    "\n",
    "The BETH dataset was chosen for a few reasons. \n",
    "\n",
    "#### 1 - Real-world cybersecurity data  \n",
    "This data, which represents over 8 million events collected using a honeypot tracking system of 23 honeypots [2], should generate results that are more applicable to real world applications, providing a more accurate representation of the challenges and complexities faced in cybersecurity.\n",
    "\n",
    "#### 2 - Anomaly detection focus\n",
    "The BETH dataset is specifically designed for anomaly detection tasks in the cybersecurity domain. Anomaly detection is a critical aspect of cybersecurity [1] as it helps identify and mitigate potential threats, intrusions, or unusual activities that may indicate malicious behavior. By using the BETH dataset, we can directly assess the effectiveness of data mining models in detecting anomalies in this context.\n",
    "\n",
    "#### 3 - Availability and Accessibility\n",
    "The availability and accessibility of the BETH dataset are crucial factors in its selection. A dataset that is easily accessible allows others to replicate experiments, conduct comparative studies, and facilitate knowledge sharing within the cybersecurity community.\n",
    "\n",
    "By selecting the BETH dataset, researchers can focus their analysis and evaluations on anomaly detection techniques specifically tailored to cybersecurity scenarios, leading to insights and findings that have direct implications for improving security measures and detecting potential threats.\n",
    "\n",
    "The dataset can be found here: https://www.kaggle.com/datasets/katehighnam/beth-dataset\n",
    "\n",
    "### Preprocessing\n",
    "\n",
    "The BETH Cybersecurity Dataset, consisting of over 8 million real-world events collected from honeypots, is specifically designed for anomaly detection in cybersecurity. After preprocessing the data, including removing irrelevant features and converting process IDs, various models were compared and the Decision Tree Classifier was selected and fine-tuned. The classifier achieved outstanding performance with high precision, recall, and f-scores, providing valuable insights for cybersecurity anomaly detection and enhancing security measures.\n",
    "\n",
    "\n",
    "\n",
    "### Processing\n",
    "The data processing methodology consisted of the following steps:\n",
    "\n",
    "#### 1 - Comparing Models\n",
    "Initially, several default models were employed, including Linear SVC, Decision Tree, Random Forest, and SGD (Stochastic Gradient Descent). These models were chosen due to their popularity and widespread use in data mining and machine learning tasks. Each model was trained and evaluated using the BETH dataset to establish baseline performance.\n",
    "\n",
    "#### 2 - Fine Tuning \n",
    "After testing the default models, the next step involved fine-tuning the best model, which happened to be the Decision Tree Classifier. Fine-tuning involved adjusting the test set size, maximum depth, and splitting criterion. By fine-tuning the models, we aimed to improve their performance and tailor them specifically to the characteristics of the BETH dataset.\n",
    "\n",
    "#### 3 - Evaluating Model on Different Sensor Logs\n",
    "To gain deeper insights into the models' performance, they were compared on different subsets of the data. This comparison involved evaluating the models on specific types of sensor logs, kernel-level process calls and network traffic.\n"
   ]
  },
  {
   "attachments": {},
   "cell_type": "markdown",
   "id": "21f31b7a-d99b-48ca-ad2f-83ffa023fb61",
   "metadata": {},
   "source": [
    "## Results\n",
    "\n",
    "The decision tree classifier, after careful model selection, fine-tuning, and consolidation of sensor logs, demonstrated outstanding performance with a precision of 98.5% on the 'suspicious' label, 99.1% on the 'evil' label, a recall of 98.7% on the 'suspicious' label, 99.7% on the 'evil' label, and impressive f-scores of 98.6% and 99.4% respectively. These findings provide valuable insights for anomaly detection in cybersecurity using the BETH dataset and lay a solid foundation for enhancing security measures to detect and mitigate potential threats effectively."
   ]
  },
  {
   "attachments": {},
   "cell_type": "markdown",
   "id": "aa54c4c1-7cbd-4f49-af07-ce474cab2e0a",
   "metadata": {},
   "source": [
    "# Setup"
   ]
  },
  {
   "attachments": {},
   "cell_type": "markdown",
   "id": "b5a287ff-4d35-4e42-a2b4-695fd1a7c254",
   "metadata": {},
   "source": [
    "## Library import\n",
    "import all the required python libraries"
   ]
  },
  {
   "cell_type": "code",
   "execution_count": 1,
   "id": "459ef4e1-e1de-48d3-9f2c-b9080795b324",
   "metadata": {},
   "outputs": [],
   "source": [
    "# Data manipulation\n",
    "import pandas as pd\n",
    "import numpy as np\n",
    "\n",
    "# Visualizations\n",
    "import matplotlib.pyplot as plt\n",
    "import seaborn as sns\n",
    "\n",
    "# Data Mining Tools\n",
    "from sklearn.model_selection import train_test_split\n",
    "from sklearn.metrics import accuracy_score, confusion_matrix, mean_squared_error, precision_recall_fscore_support, multilabel_confusion_matrix\n",
    "from sklearn.tree import DecisionTreeClassifier\n",
    "from sklearn.ensemble import RandomForestClassifier\n",
    "from sklearn.multioutput import MultiOutputClassifier\n",
    "from sklearn.svm import LinearSVC\n",
    "from sklearn.linear_model import SGDClassifier\n",
    "from sklearn.pipeline import Pipeline\n",
    "from sklearn.compose import ColumnTransformer\n",
    "from sklearn.preprocessing import StandardScaler, OrdinalEncoder \n",
    "\n",
    "# Other Tools\n",
    "import warnings \n",
    "from tqdm.notebook import tqdm"
   ]
  },
  {
   "attachments": {},
   "cell_type": "markdown",
   "id": "52af0252-a5c1-420b-83a8-dcec4417c198",
   "metadata": {},
   "source": [
    "## Settings"
   ]
  },
  {
   "cell_type": "code",
   "execution_count": 2,
   "id": "33d114a7-5260-46fc-927e-9085c99b47cd",
   "metadata": {},
   "outputs": [],
   "source": [
    "warnings.filterwarnings('ignore')\n",
    "bar_format = '{desc}: {percentage:3.0f}% |{bar}| {n_fmt}/{total_fmt}' \n",
    "\n",
    "colours = [\"#0a9396\",\"#E85D75\"]\n",
    "sns.set_palette(sns.color_palette(colours, as_cmap=True))"
   ]
  },
  {
   "attachments": {},
   "cell_type": "markdown",
   "id": "de6c56f2-49d6-4fb6-afd7-3f815eeb3349",
   "metadata": {},
   "source": [
    "## Parameter definition"
   ]
  },
  {
   "cell_type": "code",
   "execution_count": 3,
   "id": "52138365-ee87-4b49-909e-305e09c370a3",
   "metadata": {},
   "outputs": [],
   "source": [
    "SEED = 42"
   ]
  },
  {
   "attachments": {},
   "cell_type": "markdown",
   "id": "02f976b4-6174-4d6d-9827-f3474f98ce6c",
   "metadata": {},
   "source": [
    "# Data import"
   ]
  },
  {
   "cell_type": "code",
   "execution_count": 4,
   "id": "0b169867-c0ae-4dea-973e-ac4bca5ab25a",
   "metadata": {},
   "outputs": [
    {
     "data": {
      "text/plain": [
       "(1141078, 16)"
      ]
     },
     "execution_count": 4,
     "metadata": {},
     "output_type": "execute_result"
    }
   ],
   "source": [
    "data_testing = pd.read_csv('data/labelled_testing_data.csv',sep=',')\n",
    "data_training = pd.read_csv('data/labelled_training_data.csv',sep=',')\n",
    "data_validation = pd.read_csv('data/labelled_validation_data.csv',sep=',')\n",
    "\n",
    "data = pd.concat([data_testing,data_training,data_validation])\n",
    "data.shape"
   ]
  },
  {
   "cell_type": "code",
   "execution_count": 5,
   "id": "4da38407-96e3-4288-bc55-460d1f63ce4a",
   "metadata": {},
   "outputs": [
    {
     "data": {
      "text/html": [
       "<div>\n",
       "<style scoped>\n",
       "    .dataframe tbody tr th:only-of-type {\n",
       "        vertical-align: middle;\n",
       "    }\n",
       "\n",
       "    .dataframe tbody tr th {\n",
       "        vertical-align: top;\n",
       "    }\n",
       "\n",
       "    .dataframe thead th {\n",
       "        text-align: right;\n",
       "    }\n",
       "</style>\n",
       "<table border=\"1\" class=\"dataframe\">\n",
       "  <thead>\n",
       "    <tr style=\"text-align: right;\">\n",
       "      <th></th>\n",
       "      <th>timestamp</th>\n",
       "      <th>processId</th>\n",
       "      <th>threadId</th>\n",
       "      <th>parentProcessId</th>\n",
       "      <th>userId</th>\n",
       "      <th>mountNamespace</th>\n",
       "      <th>processName</th>\n",
       "      <th>hostName</th>\n",
       "      <th>eventId</th>\n",
       "      <th>eventName</th>\n",
       "      <th>stackAddresses</th>\n",
       "      <th>argsNum</th>\n",
       "      <th>returnValue</th>\n",
       "      <th>args</th>\n",
       "      <th>sus</th>\n",
       "      <th>evil</th>\n",
       "    </tr>\n",
       "  </thead>\n",
       "  <tbody>\n",
       "    <tr>\n",
       "      <th>0</th>\n",
       "      <td>129.050634</td>\n",
       "      <td>382</td>\n",
       "      <td>382</td>\n",
       "      <td>1</td>\n",
       "      <td>101</td>\n",
       "      <td>4026532232</td>\n",
       "      <td>systemd-resolve</td>\n",
       "      <td>ip-10-100-1-217</td>\n",
       "      <td>41</td>\n",
       "      <td>socket</td>\n",
       "      <td>[140159195621643, 140159192455417, 94656731598...</td>\n",
       "      <td>3</td>\n",
       "      <td>15</td>\n",
       "      <td>[{'name': 'domain', 'type': 'int', 'value': 'A...</td>\n",
       "      <td>0</td>\n",
       "      <td>0</td>\n",
       "    </tr>\n",
       "    <tr>\n",
       "      <th>1</th>\n",
       "      <td>129.051238</td>\n",
       "      <td>379</td>\n",
       "      <td>379</td>\n",
       "      <td>1</td>\n",
       "      <td>100</td>\n",
       "      <td>4026532231</td>\n",
       "      <td>systemd-network</td>\n",
       "      <td>ip-10-100-1-217</td>\n",
       "      <td>41</td>\n",
       "      <td>socket</td>\n",
       "      <td>[139853228042507, 93935071185801, 93935080775184]</td>\n",
       "      <td>3</td>\n",
       "      <td>15</td>\n",
       "      <td>[{'name': 'domain', 'type': 'int', 'value': 'A...</td>\n",
       "      <td>0</td>\n",
       "      <td>0</td>\n",
       "    </tr>\n",
       "    <tr>\n",
       "      <th>2</th>\n",
       "      <td>129.051434</td>\n",
       "      <td>1</td>\n",
       "      <td>1</td>\n",
       "      <td>0</td>\n",
       "      <td>0</td>\n",
       "      <td>4026531840</td>\n",
       "      <td>systemd</td>\n",
       "      <td>ip-10-100-1-217</td>\n",
       "      <td>1005</td>\n",
       "      <td>security_file_open</td>\n",
       "      <td>[140362867191588, 8103505641674583858]</td>\n",
       "      <td>4</td>\n",
       "      <td>0</td>\n",
       "      <td>[{'name': 'pathname', 'type': 'const char*', '...</td>\n",
       "      <td>0</td>\n",
       "      <td>0</td>\n",
       "    </tr>\n",
       "    <tr>\n",
       "      <th>3</th>\n",
       "      <td>129.051481</td>\n",
       "      <td>1</td>\n",
       "      <td>1</td>\n",
       "      <td>0</td>\n",
       "      <td>0</td>\n",
       "      <td>4026531840</td>\n",
       "      <td>systemd</td>\n",
       "      <td>ip-10-100-1-217</td>\n",
       "      <td>257</td>\n",
       "      <td>openat</td>\n",
       "      <td>[]</td>\n",
       "      <td>4</td>\n",
       "      <td>17</td>\n",
       "      <td>[{'name': 'dirfd', 'type': 'int', 'value': -10...</td>\n",
       "      <td>0</td>\n",
       "      <td>0</td>\n",
       "    </tr>\n",
       "    <tr>\n",
       "      <th>4</th>\n",
       "      <td>129.051522</td>\n",
       "      <td>1</td>\n",
       "      <td>1</td>\n",
       "      <td>0</td>\n",
       "      <td>0</td>\n",
       "      <td>4026531840</td>\n",
       "      <td>systemd</td>\n",
       "      <td>ip-10-100-1-217</td>\n",
       "      <td>5</td>\n",
       "      <td>fstat</td>\n",
       "      <td>[140362867189385]</td>\n",
       "      <td>2</td>\n",
       "      <td>0</td>\n",
       "      <td>[{'name': 'fd', 'type': 'int', 'value': 17}, {...</td>\n",
       "      <td>0</td>\n",
       "      <td>0</td>\n",
       "    </tr>\n",
       "  </tbody>\n",
       "</table>\n",
       "</div>"
      ],
      "text/plain": [
       "    timestamp  processId  threadId  parentProcessId  userId  mountNamespace  \\\n",
       "0  129.050634        382       382                1     101      4026532232   \n",
       "1  129.051238        379       379                1     100      4026532231   \n",
       "2  129.051434          1         1                0       0      4026531840   \n",
       "3  129.051481          1         1                0       0      4026531840   \n",
       "4  129.051522          1         1                0       0      4026531840   \n",
       "\n",
       "       processName         hostName  eventId           eventName  \\\n",
       "0  systemd-resolve  ip-10-100-1-217       41              socket   \n",
       "1  systemd-network  ip-10-100-1-217       41              socket   \n",
       "2          systemd  ip-10-100-1-217     1005  security_file_open   \n",
       "3          systemd  ip-10-100-1-217      257              openat   \n",
       "4          systemd  ip-10-100-1-217        5               fstat   \n",
       "\n",
       "                                      stackAddresses  argsNum  returnValue  \\\n",
       "0  [140159195621643, 140159192455417, 94656731598...        3           15   \n",
       "1  [139853228042507, 93935071185801, 93935080775184]        3           15   \n",
       "2             [140362867191588, 8103505641674583858]        4            0   \n",
       "3                                                 []        4           17   \n",
       "4                                  [140362867189385]        2            0   \n",
       "\n",
       "                                                args  sus  evil  \n",
       "0  [{'name': 'domain', 'type': 'int', 'value': 'A...    0     0  \n",
       "1  [{'name': 'domain', 'type': 'int', 'value': 'A...    0     0  \n",
       "2  [{'name': 'pathname', 'type': 'const char*', '...    0     0  \n",
       "3  [{'name': 'dirfd', 'type': 'int', 'value': -10...    0     0  \n",
       "4  [{'name': 'fd', 'type': 'int', 'value': 17}, {...    0     0  "
      ]
     },
     "execution_count": 5,
     "metadata": {},
     "output_type": "execute_result"
    }
   ],
   "source": [
    "data.head()"
   ]
  },
  {
   "cell_type": "code",
   "execution_count": 6,
   "id": "b6e8c3f4-afc8-45f6-88c0-067bf715c9c8",
   "metadata": {},
   "outputs": [
    {
     "data": {
      "text/plain": [
       "(2466896, 13)"
      ]
     },
     "execution_count": 6,
     "metadata": {},
     "output_type": "execute_result"
    }
   ],
   "source": [
    "data_105 = pd.read_csv('data/labelled_2021may-ip-10-100-1-105.csv',sep=',')\n",
    "data_186 = pd.read_csv('data/labelled_2021may-ip-10-100-1-186.csv',sep=',')\n",
    "data_26 = pd.read_csv('data/labelled_2021may-ip-10-100-1-26.csv',sep=',')\n",
    "data_4 = pd.read_csv('data/labelled_2021may-ip-10-100-1-4.csv',sep=',')\n",
    "data_95 = pd.read_csv('data/labelled_2021may-ip-10-100-1-95.csv',sep=',')\n",
    "\n",
    "data_ip = pd.concat([data_105,data_186,data_26,data_4,data_95])\n",
    "data_ip.shape"
   ]
  },
  {
   "cell_type": "code",
   "execution_count": 7,
   "id": "d55115e2-b345-46ef-af0f-56bab2d789d9",
   "metadata": {},
   "outputs": [
    {
     "data": {
      "text/html": [
       "<div>\n",
       "<style scoped>\n",
       "    .dataframe tbody tr th:only-of-type {\n",
       "        vertical-align: middle;\n",
       "    }\n",
       "\n",
       "    .dataframe tbody tr th {\n",
       "        vertical-align: top;\n",
       "    }\n",
       "\n",
       "    .dataframe thead th {\n",
       "        text-align: right;\n",
       "    }\n",
       "</style>\n",
       "<table border=\"1\" class=\"dataframe\">\n",
       "  <thead>\n",
       "    <tr style=\"text-align: right;\">\n",
       "      <th></th>\n",
       "      <th>timestamp</th>\n",
       "      <th>processId</th>\n",
       "      <th>parentProcessId</th>\n",
       "      <th>userId</th>\n",
       "      <th>processName</th>\n",
       "      <th>hostName</th>\n",
       "      <th>eventId</th>\n",
       "      <th>eventName</th>\n",
       "      <th>argsNum</th>\n",
       "      <th>returnValue</th>\n",
       "      <th>args</th>\n",
       "      <th>sus</th>\n",
       "      <th>evil</th>\n",
       "    </tr>\n",
       "  </thead>\n",
       "  <tbody>\n",
       "    <tr>\n",
       "      <th>0</th>\n",
       "      <td>126.233491</td>\n",
       "      <td>1</td>\n",
       "      <td>0</td>\n",
       "      <td>0</td>\n",
       "      <td>systemd</td>\n",
       "      <td>ip-10-100-1-105</td>\n",
       "      <td>1005</td>\n",
       "      <td>security_file_open</td>\n",
       "      <td>4</td>\n",
       "      <td>0</td>\n",
       "      <td>[{'name': 'pathname', 'type': 'const char*', '...</td>\n",
       "      <td>0</td>\n",
       "      <td>0</td>\n",
       "    </tr>\n",
       "    <tr>\n",
       "      <th>1</th>\n",
       "      <td>126.233165</td>\n",
       "      <td>384</td>\n",
       "      <td>1</td>\n",
       "      <td>101</td>\n",
       "      <td>systemd-resolve</td>\n",
       "      <td>ip-10-100-1-105</td>\n",
       "      <td>41</td>\n",
       "      <td>socket</td>\n",
       "      <td>3</td>\n",
       "      <td>15</td>\n",
       "      <td>[{'name': 'domain', 'type': 'int', 'value': 'A...</td>\n",
       "      <td>0</td>\n",
       "      <td>0</td>\n",
       "    </tr>\n",
       "    <tr>\n",
       "      <th>2</th>\n",
       "      <td>126.233559</td>\n",
       "      <td>1</td>\n",
       "      <td>0</td>\n",
       "      <td>0</td>\n",
       "      <td>systemd</td>\n",
       "      <td>ip-10-100-1-105</td>\n",
       "      <td>5</td>\n",
       "      <td>fstat</td>\n",
       "      <td>2</td>\n",
       "      <td>0</td>\n",
       "      <td>[{'name': 'fd', 'type': 'int', 'value': 18}, {...</td>\n",
       "      <td>0</td>\n",
       "      <td>0</td>\n",
       "    </tr>\n",
       "    <tr>\n",
       "      <th>3</th>\n",
       "      <td>126.233681</td>\n",
       "      <td>1</td>\n",
       "      <td>0</td>\n",
       "      <td>0</td>\n",
       "      <td>systemd</td>\n",
       "      <td>ip-10-100-1-105</td>\n",
       "      <td>3</td>\n",
       "      <td>close</td>\n",
       "      <td>1</td>\n",
       "      <td>0</td>\n",
       "      <td>[{'name': 'fd', 'type': 'int', 'value': 18}]</td>\n",
       "      <td>0</td>\n",
       "      <td>0</td>\n",
       "    </tr>\n",
       "    <tr>\n",
       "      <th>4</th>\n",
       "      <td>126.233796</td>\n",
       "      <td>384</td>\n",
       "      <td>1</td>\n",
       "      <td>101</td>\n",
       "      <td>systemd-resolve</td>\n",
       "      <td>ip-10-100-1-105</td>\n",
       "      <td>3</td>\n",
       "      <td>close</td>\n",
       "      <td>1</td>\n",
       "      <td>0</td>\n",
       "      <td>[{'name': 'fd', 'type': 'int', 'value': 15}]</td>\n",
       "      <td>0</td>\n",
       "      <td>0</td>\n",
       "    </tr>\n",
       "  </tbody>\n",
       "</table>\n",
       "</div>"
      ],
      "text/plain": [
       "    timestamp  processId  parentProcessId  userId      processName  \\\n",
       "0  126.233491          1                0       0          systemd   \n",
       "1  126.233165        384                1     101  systemd-resolve   \n",
       "2  126.233559          1                0       0          systemd   \n",
       "3  126.233681          1                0       0          systemd   \n",
       "4  126.233796        384                1     101  systemd-resolve   \n",
       "\n",
       "          hostName  eventId           eventName  argsNum  returnValue  \\\n",
       "0  ip-10-100-1-105     1005  security_file_open        4            0   \n",
       "1  ip-10-100-1-105       41              socket        3           15   \n",
       "2  ip-10-100-1-105        5               fstat        2            0   \n",
       "3  ip-10-100-1-105        3               close        1            0   \n",
       "4  ip-10-100-1-105        3               close        1            0   \n",
       "\n",
       "                                                args  sus  evil  \n",
       "0  [{'name': 'pathname', 'type': 'const char*', '...    0     0  \n",
       "1  [{'name': 'domain', 'type': 'int', 'value': 'A...    0     0  \n",
       "2  [{'name': 'fd', 'type': 'int', 'value': 18}, {...    0     0  \n",
       "3       [{'name': 'fd', 'type': 'int', 'value': 18}]    0     0  \n",
       "4       [{'name': 'fd', 'type': 'int', 'value': 15}]    0     0  "
      ]
     },
     "execution_count": 7,
     "metadata": {},
     "output_type": "execute_result"
    }
   ],
   "source": [
    "data_ip.head()"
   ]
  },
  {
   "cell_type": "code",
   "execution_count": 8,
   "id": "0aeca760-a4ef-42ca-9a24-af37818ef404",
   "metadata": {},
   "outputs": [
    {
     "data": {
      "text/plain": [
       "(2466896, 13)"
      ]
     },
     "execution_count": 8,
     "metadata": {},
     "output_type": "execute_result"
    }
   ],
   "source": [
    "data_105_dns = pd.read_csv('data/labelled_2021may-ip-10-100-1-105-dns.csv',sep=',')\n",
    "data_186_dns = pd.read_csv('data/labelled_2021may-ip-10-100-1-186-dns.csv',sep=',')\n",
    "data_26_dns = pd.read_csv('data/labelled_2021may-ip-10-100-1-26-dns.csv',sep=',')\n",
    "data_4_dns = pd.read_csv('data/labelled_2021may-ip-10-100-1-4-dns.csv',sep=',')\n",
    "data_95_dns = pd.read_csv('data/labelled_2021may-ip-10-100-1-95-dns.csv',sep=',')\n",
    "\n",
    "data_dns = pd.concat([data_105,data_186,data_26,data_4,data_95])\n",
    "data_dns.shape"
   ]
  },
  {
   "cell_type": "code",
   "execution_count": 9,
   "id": "2b9dd45a-70c6-4cd5-9450-896435295c19",
   "metadata": {},
   "outputs": [
    {
     "data": {
      "text/html": [
       "<div>\n",
       "<style scoped>\n",
       "    .dataframe tbody tr th:only-of-type {\n",
       "        vertical-align: middle;\n",
       "    }\n",
       "\n",
       "    .dataframe tbody tr th {\n",
       "        vertical-align: top;\n",
       "    }\n",
       "\n",
       "    .dataframe thead th {\n",
       "        text-align: right;\n",
       "    }\n",
       "</style>\n",
       "<table border=\"1\" class=\"dataframe\">\n",
       "  <thead>\n",
       "    <tr style=\"text-align: right;\">\n",
       "      <th></th>\n",
       "      <th>timestamp</th>\n",
       "      <th>processId</th>\n",
       "      <th>parentProcessId</th>\n",
       "      <th>userId</th>\n",
       "      <th>processName</th>\n",
       "      <th>hostName</th>\n",
       "      <th>eventId</th>\n",
       "      <th>eventName</th>\n",
       "      <th>argsNum</th>\n",
       "      <th>returnValue</th>\n",
       "      <th>args</th>\n",
       "      <th>sus</th>\n",
       "      <th>evil</th>\n",
       "    </tr>\n",
       "  </thead>\n",
       "  <tbody>\n",
       "    <tr>\n",
       "      <th>0</th>\n",
       "      <td>126.233491</td>\n",
       "      <td>1</td>\n",
       "      <td>0</td>\n",
       "      <td>0</td>\n",
       "      <td>systemd</td>\n",
       "      <td>ip-10-100-1-105</td>\n",
       "      <td>1005</td>\n",
       "      <td>security_file_open</td>\n",
       "      <td>4</td>\n",
       "      <td>0</td>\n",
       "      <td>[{'name': 'pathname', 'type': 'const char*', '...</td>\n",
       "      <td>0</td>\n",
       "      <td>0</td>\n",
       "    </tr>\n",
       "    <tr>\n",
       "      <th>1</th>\n",
       "      <td>126.233165</td>\n",
       "      <td>384</td>\n",
       "      <td>1</td>\n",
       "      <td>101</td>\n",
       "      <td>systemd-resolve</td>\n",
       "      <td>ip-10-100-1-105</td>\n",
       "      <td>41</td>\n",
       "      <td>socket</td>\n",
       "      <td>3</td>\n",
       "      <td>15</td>\n",
       "      <td>[{'name': 'domain', 'type': 'int', 'value': 'A...</td>\n",
       "      <td>0</td>\n",
       "      <td>0</td>\n",
       "    </tr>\n",
       "    <tr>\n",
       "      <th>2</th>\n",
       "      <td>126.233559</td>\n",
       "      <td>1</td>\n",
       "      <td>0</td>\n",
       "      <td>0</td>\n",
       "      <td>systemd</td>\n",
       "      <td>ip-10-100-1-105</td>\n",
       "      <td>5</td>\n",
       "      <td>fstat</td>\n",
       "      <td>2</td>\n",
       "      <td>0</td>\n",
       "      <td>[{'name': 'fd', 'type': 'int', 'value': 18}, {...</td>\n",
       "      <td>0</td>\n",
       "      <td>0</td>\n",
       "    </tr>\n",
       "    <tr>\n",
       "      <th>3</th>\n",
       "      <td>126.233681</td>\n",
       "      <td>1</td>\n",
       "      <td>0</td>\n",
       "      <td>0</td>\n",
       "      <td>systemd</td>\n",
       "      <td>ip-10-100-1-105</td>\n",
       "      <td>3</td>\n",
       "      <td>close</td>\n",
       "      <td>1</td>\n",
       "      <td>0</td>\n",
       "      <td>[{'name': 'fd', 'type': 'int', 'value': 18}]</td>\n",
       "      <td>0</td>\n",
       "      <td>0</td>\n",
       "    </tr>\n",
       "    <tr>\n",
       "      <th>4</th>\n",
       "      <td>126.233796</td>\n",
       "      <td>384</td>\n",
       "      <td>1</td>\n",
       "      <td>101</td>\n",
       "      <td>systemd-resolve</td>\n",
       "      <td>ip-10-100-1-105</td>\n",
       "      <td>3</td>\n",
       "      <td>close</td>\n",
       "      <td>1</td>\n",
       "      <td>0</td>\n",
       "      <td>[{'name': 'fd', 'type': 'int', 'value': 15}]</td>\n",
       "      <td>0</td>\n",
       "      <td>0</td>\n",
       "    </tr>\n",
       "  </tbody>\n",
       "</table>\n",
       "</div>"
      ],
      "text/plain": [
       "    timestamp  processId  parentProcessId  userId      processName  \\\n",
       "0  126.233491          1                0       0          systemd   \n",
       "1  126.233165        384                1     101  systemd-resolve   \n",
       "2  126.233559          1                0       0          systemd   \n",
       "3  126.233681          1                0       0          systemd   \n",
       "4  126.233796        384                1     101  systemd-resolve   \n",
       "\n",
       "          hostName  eventId           eventName  argsNum  returnValue  \\\n",
       "0  ip-10-100-1-105     1005  security_file_open        4            0   \n",
       "1  ip-10-100-1-105       41              socket        3           15   \n",
       "2  ip-10-100-1-105        5               fstat        2            0   \n",
       "3  ip-10-100-1-105        3               close        1            0   \n",
       "4  ip-10-100-1-105        3               close        1            0   \n",
       "\n",
       "                                                args  sus  evil  \n",
       "0  [{'name': 'pathname', 'type': 'const char*', '...    0     0  \n",
       "1  [{'name': 'domain', 'type': 'int', 'value': 'A...    0     0  \n",
       "2  [{'name': 'fd', 'type': 'int', 'value': 18}, {...    0     0  \n",
       "3       [{'name': 'fd', 'type': 'int', 'value': 18}]    0     0  \n",
       "4       [{'name': 'fd', 'type': 'int', 'value': 15}]    0     0  "
      ]
     },
     "execution_count": 9,
     "metadata": {},
     "output_type": "execute_result"
    }
   ],
   "source": [
    "data_dns.head()"
   ]
  },
  {
   "attachments": {},
   "cell_type": "markdown",
   "id": "7a08e8a8-c2e1-4845-84ff-60e8d9b01008",
   "metadata": {},
   "source": [
    "# Data preprocessing"
   ]
  },
  {
   "cell_type": "code",
   "execution_count": 10,
   "id": "54a8a088-9f01-4832-84d8-6a0002b11f97",
   "metadata": {},
   "outputs": [],
   "source": [
    "# Drop irrelevant features\n",
    "data.drop(['timestamp', 'threadId', 'parentProcessId', 'eventName', 'stackAddresses'], axis=1, inplace=True)\n",
    "data_ip.drop(['timestamp', 'parentProcessId', 'eventName'], axis=1, inplace=True)\n",
    "data_dns.drop(['timestamp', 'parentProcessId', 'eventName'], axis=1, inplace=True)"
   ]
  },
  {
   "cell_type": "code",
   "execution_count": 11,
   "id": "75f20d96-8635-4995-9cc4-bc248db7f406",
   "metadata": {},
   "outputs": [
    {
     "data": {
      "text/html": [
       "<div>\n",
       "<style scoped>\n",
       "    .dataframe tbody tr th:only-of-type {\n",
       "        vertical-align: middle;\n",
       "    }\n",
       "\n",
       "    .dataframe tbody tr th {\n",
       "        vertical-align: top;\n",
       "    }\n",
       "\n",
       "    .dataframe thead th {\n",
       "        text-align: right;\n",
       "    }\n",
       "</style>\n",
       "<table border=\"1\" class=\"dataframe\">\n",
       "  <thead>\n",
       "    <tr style=\"text-align: right;\">\n",
       "      <th></th>\n",
       "      <th>processId</th>\n",
       "      <th>userId</th>\n",
       "      <th>processName</th>\n",
       "      <th>hostName</th>\n",
       "      <th>eventId</th>\n",
       "      <th>argsNum</th>\n",
       "      <th>returnValue</th>\n",
       "      <th>args</th>\n",
       "      <th>sus</th>\n",
       "      <th>evil</th>\n",
       "    </tr>\n",
       "  </thead>\n",
       "  <tbody>\n",
       "    <tr>\n",
       "      <th>0</th>\n",
       "      <td>1</td>\n",
       "      <td>0</td>\n",
       "      <td>systemd</td>\n",
       "      <td>ip-10-100-1-105</td>\n",
       "      <td>1005</td>\n",
       "      <td>4</td>\n",
       "      <td>0</td>\n",
       "      <td>[{'name': 'pathname', 'type': 'const char*', '...</td>\n",
       "      <td>0</td>\n",
       "      <td>0</td>\n",
       "    </tr>\n",
       "    <tr>\n",
       "      <th>1</th>\n",
       "      <td>384</td>\n",
       "      <td>101</td>\n",
       "      <td>systemd-resolve</td>\n",
       "      <td>ip-10-100-1-105</td>\n",
       "      <td>41</td>\n",
       "      <td>3</td>\n",
       "      <td>15</td>\n",
       "      <td>[{'name': 'domain', 'type': 'int', 'value': 'A...</td>\n",
       "      <td>0</td>\n",
       "      <td>0</td>\n",
       "    </tr>\n",
       "    <tr>\n",
       "      <th>2</th>\n",
       "      <td>1</td>\n",
       "      <td>0</td>\n",
       "      <td>systemd</td>\n",
       "      <td>ip-10-100-1-105</td>\n",
       "      <td>5</td>\n",
       "      <td>2</td>\n",
       "      <td>0</td>\n",
       "      <td>[{'name': 'fd', 'type': 'int', 'value': 18}, {...</td>\n",
       "      <td>0</td>\n",
       "      <td>0</td>\n",
       "    </tr>\n",
       "    <tr>\n",
       "      <th>3</th>\n",
       "      <td>1</td>\n",
       "      <td>0</td>\n",
       "      <td>systemd</td>\n",
       "      <td>ip-10-100-1-105</td>\n",
       "      <td>3</td>\n",
       "      <td>1</td>\n",
       "      <td>0</td>\n",
       "      <td>[{'name': 'fd', 'type': 'int', 'value': 18}]</td>\n",
       "      <td>0</td>\n",
       "      <td>0</td>\n",
       "    </tr>\n",
       "    <tr>\n",
       "      <th>4</th>\n",
       "      <td>384</td>\n",
       "      <td>101</td>\n",
       "      <td>systemd-resolve</td>\n",
       "      <td>ip-10-100-1-105</td>\n",
       "      <td>3</td>\n",
       "      <td>1</td>\n",
       "      <td>0</td>\n",
       "      <td>[{'name': 'fd', 'type': 'int', 'value': 15}]</td>\n",
       "      <td>0</td>\n",
       "      <td>0</td>\n",
       "    </tr>\n",
       "  </tbody>\n",
       "</table>\n",
       "</div>"
      ],
      "text/plain": [
       "   processId  userId      processName         hostName  eventId  argsNum  \\\n",
       "0          1       0          systemd  ip-10-100-1-105     1005        4   \n",
       "1        384     101  systemd-resolve  ip-10-100-1-105       41        3   \n",
       "2          1       0          systemd  ip-10-100-1-105        5        2   \n",
       "3          1       0          systemd  ip-10-100-1-105        3        1   \n",
       "4        384     101  systemd-resolve  ip-10-100-1-105        3        1   \n",
       "\n",
       "   returnValue                                               args  sus  evil  \n",
       "0            0  [{'name': 'pathname', 'type': 'const char*', '...    0     0  \n",
       "1           15  [{'name': 'domain', 'type': 'int', 'value': 'A...    0     0  \n",
       "2            0  [{'name': 'fd', 'type': 'int', 'value': 18}, {...    0     0  \n",
       "3            0       [{'name': 'fd', 'type': 'int', 'value': 18}]    0     0  \n",
       "4            0       [{'name': 'fd', 'type': 'int', 'value': 15}]    0     0  "
      ]
     },
     "execution_count": 11,
     "metadata": {},
     "output_type": "execute_result"
    }
   ],
   "source": [
    "data_ip.head()"
   ]
  },
  {
   "cell_type": "code",
   "execution_count": 12,
   "id": "bb98cc4c-c219-4f68-aa17-193e5471a381",
   "metadata": {},
   "outputs": [],
   "source": [
    "# Replaces processId with a binary variable indicating whether processId is 0, 1, or 2\n",
    "data['processId'] = data['processId'].apply(lambda x: int(x in [0, 1, 2]))\n",
    "data_ip['processId'] = data_ip['processId'].apply(lambda x: int(x in [0, 1, 2]))\n",
    "data_dns['processId'] = data_dns['processId'].apply(lambda x: int(x in [0, 1, 2]))"
   ]
  },
  {
   "cell_type": "code",
   "execution_count": 13,
   "id": "ae574261-2432-47cb-8d3e-32655ec850d1",
   "metadata": {},
   "outputs": [
    {
     "data": {
      "text/html": [
       "<div>\n",
       "<style scoped>\n",
       "    .dataframe tbody tr th:only-of-type {\n",
       "        vertical-align: middle;\n",
       "    }\n",
       "\n",
       "    .dataframe tbody tr th {\n",
       "        vertical-align: top;\n",
       "    }\n",
       "\n",
       "    .dataframe thead th {\n",
       "        text-align: right;\n",
       "    }\n",
       "</style>\n",
       "<table border=\"1\" class=\"dataframe\">\n",
       "  <thead>\n",
       "    <tr style=\"text-align: right;\">\n",
       "      <th></th>\n",
       "      <th>processId</th>\n",
       "      <th>userId</th>\n",
       "      <th>processName</th>\n",
       "      <th>hostName</th>\n",
       "      <th>eventId</th>\n",
       "      <th>argsNum</th>\n",
       "      <th>returnValue</th>\n",
       "      <th>args</th>\n",
       "      <th>sus</th>\n",
       "      <th>evil</th>\n",
       "    </tr>\n",
       "  </thead>\n",
       "  <tbody>\n",
       "    <tr>\n",
       "      <th>0</th>\n",
       "      <td>1</td>\n",
       "      <td>0</td>\n",
       "      <td>systemd</td>\n",
       "      <td>ip-10-100-1-105</td>\n",
       "      <td>1005</td>\n",
       "      <td>4</td>\n",
       "      <td>0</td>\n",
       "      <td>[{'name': 'pathname', 'type': 'const char*', '...</td>\n",
       "      <td>0</td>\n",
       "      <td>0</td>\n",
       "    </tr>\n",
       "    <tr>\n",
       "      <th>1</th>\n",
       "      <td>0</td>\n",
       "      <td>101</td>\n",
       "      <td>systemd-resolve</td>\n",
       "      <td>ip-10-100-1-105</td>\n",
       "      <td>41</td>\n",
       "      <td>3</td>\n",
       "      <td>15</td>\n",
       "      <td>[{'name': 'domain', 'type': 'int', 'value': 'A...</td>\n",
       "      <td>0</td>\n",
       "      <td>0</td>\n",
       "    </tr>\n",
       "    <tr>\n",
       "      <th>2</th>\n",
       "      <td>1</td>\n",
       "      <td>0</td>\n",
       "      <td>systemd</td>\n",
       "      <td>ip-10-100-1-105</td>\n",
       "      <td>5</td>\n",
       "      <td>2</td>\n",
       "      <td>0</td>\n",
       "      <td>[{'name': 'fd', 'type': 'int', 'value': 18}, {...</td>\n",
       "      <td>0</td>\n",
       "      <td>0</td>\n",
       "    </tr>\n",
       "    <tr>\n",
       "      <th>3</th>\n",
       "      <td>1</td>\n",
       "      <td>0</td>\n",
       "      <td>systemd</td>\n",
       "      <td>ip-10-100-1-105</td>\n",
       "      <td>3</td>\n",
       "      <td>1</td>\n",
       "      <td>0</td>\n",
       "      <td>[{'name': 'fd', 'type': 'int', 'value': 18}]</td>\n",
       "      <td>0</td>\n",
       "      <td>0</td>\n",
       "    </tr>\n",
       "    <tr>\n",
       "      <th>4</th>\n",
       "      <td>0</td>\n",
       "      <td>101</td>\n",
       "      <td>systemd-resolve</td>\n",
       "      <td>ip-10-100-1-105</td>\n",
       "      <td>3</td>\n",
       "      <td>1</td>\n",
       "      <td>0</td>\n",
       "      <td>[{'name': 'fd', 'type': 'int', 'value': 15}]</td>\n",
       "      <td>0</td>\n",
       "      <td>0</td>\n",
       "    </tr>\n",
       "  </tbody>\n",
       "</table>\n",
       "</div>"
      ],
      "text/plain": [
       "   processId  userId      processName         hostName  eventId  argsNum  \\\n",
       "0          1       0          systemd  ip-10-100-1-105     1005        4   \n",
       "1          0     101  systemd-resolve  ip-10-100-1-105       41        3   \n",
       "2          1       0          systemd  ip-10-100-1-105        5        2   \n",
       "3          1       0          systemd  ip-10-100-1-105        3        1   \n",
       "4          0     101  systemd-resolve  ip-10-100-1-105        3        1   \n",
       "\n",
       "   returnValue                                               args  sus  evil  \n",
       "0            0  [{'name': 'pathname', 'type': 'const char*', '...    0     0  \n",
       "1           15  [{'name': 'domain', 'type': 'int', 'value': 'A...    0     0  \n",
       "2            0  [{'name': 'fd', 'type': 'int', 'value': 18}, {...    0     0  \n",
       "3            0       [{'name': 'fd', 'type': 'int', 'value': 18}]    0     0  \n",
       "4            0       [{'name': 'fd', 'type': 'int', 'value': 15}]    0     0  "
      ]
     },
     "execution_count": 13,
     "metadata": {},
     "output_type": "execute_result"
    }
   ],
   "source": [
    "data_ip.head()"
   ]
  },
  {
   "cell_type": "markdown",
   "id": "d4dc1d2f-2dca-47e2-94ea-8d059c4ca82c",
   "metadata": {},
   "source": [
    "ProcessIDs 0, 1, and 2 are meaningful since these are always values used by the OS. Otherwise a random number is assigned to the process upon creation so no insights are gained from knowing individual process IDs. For training our model, we only care about wether or not a process was spawned by the OS or not. A binary variable is perfect for this as it'll set processIDs spawned from the OS to 1 and anything else to 0."
   ]
  },
  {
   "cell_type": "code",
   "execution_count": 14,
   "id": "6fc51d3e-cefe-4632-9475-7c18d81b1e1c",
   "metadata": {},
   "outputs": [
    {
     "data": {
      "text/html": [
       "<div>\n",
       "<style scoped>\n",
       "    .dataframe tbody tr th:only-of-type {\n",
       "        vertical-align: middle;\n",
       "    }\n",
       "\n",
       "    .dataframe tbody tr th {\n",
       "        vertical-align: top;\n",
       "    }\n",
       "\n",
       "    .dataframe thead th {\n",
       "        text-align: right;\n",
       "    }\n",
       "</style>\n",
       "<table border=\"1\" class=\"dataframe\">\n",
       "  <thead>\n",
       "    <tr style=\"text-align: right;\">\n",
       "      <th></th>\n",
       "      <th>processId</th>\n",
       "      <th>userId</th>\n",
       "      <th>processName</th>\n",
       "      <th>hostName</th>\n",
       "      <th>eventId</th>\n",
       "      <th>argsNum</th>\n",
       "      <th>returnValue</th>\n",
       "      <th>args</th>\n",
       "      <th>sus</th>\n",
       "      <th>evil</th>\n",
       "    </tr>\n",
       "  </thead>\n",
       "  <tbody>\n",
       "    <tr>\n",
       "      <th>0</th>\n",
       "      <td>1</td>\n",
       "      <td>1</td>\n",
       "      <td>systemd</td>\n",
       "      <td>ip-10-100-1-105</td>\n",
       "      <td>1005</td>\n",
       "      <td>4</td>\n",
       "      <td>0</td>\n",
       "      <td>[{'name': 'pathname', 'type': 'const char*', '...</td>\n",
       "      <td>0</td>\n",
       "      <td>0</td>\n",
       "    </tr>\n",
       "    <tr>\n",
       "      <th>1</th>\n",
       "      <td>0</td>\n",
       "      <td>1</td>\n",
       "      <td>systemd-resolve</td>\n",
       "      <td>ip-10-100-1-105</td>\n",
       "      <td>41</td>\n",
       "      <td>3</td>\n",
       "      <td>15</td>\n",
       "      <td>[{'name': 'domain', 'type': 'int', 'value': 'A...</td>\n",
       "      <td>0</td>\n",
       "      <td>0</td>\n",
       "    </tr>\n",
       "    <tr>\n",
       "      <th>2</th>\n",
       "      <td>1</td>\n",
       "      <td>1</td>\n",
       "      <td>systemd</td>\n",
       "      <td>ip-10-100-1-105</td>\n",
       "      <td>5</td>\n",
       "      <td>2</td>\n",
       "      <td>0</td>\n",
       "      <td>[{'name': 'fd', 'type': 'int', 'value': 18}, {...</td>\n",
       "      <td>0</td>\n",
       "      <td>0</td>\n",
       "    </tr>\n",
       "    <tr>\n",
       "      <th>3</th>\n",
       "      <td>1</td>\n",
       "      <td>1</td>\n",
       "      <td>systemd</td>\n",
       "      <td>ip-10-100-1-105</td>\n",
       "      <td>3</td>\n",
       "      <td>1</td>\n",
       "      <td>0</td>\n",
       "      <td>[{'name': 'fd', 'type': 'int', 'value': 18}]</td>\n",
       "      <td>0</td>\n",
       "      <td>0</td>\n",
       "    </tr>\n",
       "    <tr>\n",
       "      <th>4</th>\n",
       "      <td>0</td>\n",
       "      <td>1</td>\n",
       "      <td>systemd-resolve</td>\n",
       "      <td>ip-10-100-1-105</td>\n",
       "      <td>3</td>\n",
       "      <td>1</td>\n",
       "      <td>0</td>\n",
       "      <td>[{'name': 'fd', 'type': 'int', 'value': 15}]</td>\n",
       "      <td>0</td>\n",
       "      <td>0</td>\n",
       "    </tr>\n",
       "  </tbody>\n",
       "</table>\n",
       "</div>"
      ],
      "text/plain": [
       "   processId  userId      processName         hostName  eventId  argsNum  \\\n",
       "0          1       1          systemd  ip-10-100-1-105     1005        4   \n",
       "1          0       1  systemd-resolve  ip-10-100-1-105       41        3   \n",
       "2          1       1          systemd  ip-10-100-1-105        5        2   \n",
       "3          1       1          systemd  ip-10-100-1-105        3        1   \n",
       "4          0       1  systemd-resolve  ip-10-100-1-105        3        1   \n",
       "\n",
       "   returnValue                                               args  sus  evil  \n",
       "0            0  [{'name': 'pathname', 'type': 'const char*', '...    0     0  \n",
       "1           15  [{'name': 'domain', 'type': 'int', 'value': 'A...    0     0  \n",
       "2            0  [{'name': 'fd', 'type': 'int', 'value': 18}, {...    0     0  \n",
       "3            0       [{'name': 'fd', 'type': 'int', 'value': 18}]    0     0  \n",
       "4            0       [{'name': 'fd', 'type': 'int', 'value': 15}]    0     0  "
      ]
     },
     "execution_count": 14,
     "metadata": {},
     "output_type": "execute_result"
    }
   ],
   "source": [
    "# Creates a binary variable to indicate userId < 1000 or userId ≥ 1000\n",
    "data['userId'] = data['userId'].apply(lambda x: int(x < 1000))\n",
    "data_ip['userId'] = data_ip['userId'].apply(lambda x: int(x < 1000))\n",
    "data_dns['userId'] = data_dns['userId'].apply(lambda x: int(x < 1000))\n",
    "data_ip.head()"
   ]
  },
  {
   "cell_type": "markdown",
   "id": "0fc6f2cb-97b3-4ad0-b13d-2c77af175314",
   "metadata": {},
   "source": [
    "Similarly to processId, the default in Linux systems is to assign OS activity to a number below 1000 (typically 0). As users login, they are assigned IDs starting at 1000, incrementally. This can be altered manually by a user, but none of the logs showed any evidence of an attacker attempting this. Just like processId, we use a binary variable on userID to set OS activity to 1 and anything else to 0. \n",
    "\n",
    "**Note: may need to swap inequality to keep results consistent with processId**"
   ]
  },
  {
   "cell_type": "code",
   "execution_count": 15,
   "id": "b8048c84-32c5-492e-ad79-78d2721e1b5c",
   "metadata": {},
   "outputs": [],
   "source": [
    "# Create a binary variable to indicate whether mountNamespace = 4026531840\n",
    "data['mountNamespace'] = data['mountNamespace'].apply(lambda x: int(x == 4026531840))"
   ]
  },
  {
   "cell_type": "markdown",
   "id": "fa908393-84c4-44cc-ab90-aa1a353f44c5",
   "metadata": {},
   "source": [
    "This feature determines the access a certain process has to various mount points. The most common value for this feature is 0xF0000000, which is for the directory where all manually mounted points are linked. All logs with userID >= 1000 had a mountNamespace of 0xF0000000 while some OS traffic used different mountNamespace values. Just like the last two features we used a binary variable to map whether or not mountNamespace = 0xF0000000."
   ]
  },
  {
   "cell_type": "code",
   "execution_count": 16,
   "id": "774c625a-967d-4ef1-94e7-3f312edcb6b2",
   "metadata": {},
   "outputs": [],
   "source": [
    "# Maps returnValue into three values: -1 for negative values, 0 for zero, and 1 for positive values\n",
    "returnValue_mapping = {-1: -1, 0: 0}\n",
    "data['returnValue'] = data['returnValue'].map(returnValue_mapping).fillna(1)\n",
    "data_ip['returnValue'] = data_ip['returnValue'].map(returnValue_mapping).fillna(1)\n",
    "data_dns['returnValue'] = data_dns['returnValue'].map(returnValue_mapping).fillna(1)"
   ]
  },
  {
   "cell_type": "markdown",
   "id": "adab76b2-71b9-42b6-a538-6686acf74715",
   "metadata": {},
   "source": [
    "This is also called the exit status and can be used to determine whether a call completed successfully or not. Mappings for this can vary, as this value is decided between the parent and child process. We mapped 'returnValue' into three values based on the common usage of the field: -1 when negative (bad errors), 0 when zero (success), and 1 when positive (success and signalling something to the parent process)"
   ]
  },
  {
   "cell_type": "code",
   "execution_count": 17,
   "id": "9d29fa62-7bf6-4f53-b89b-74faf91d6742",
   "metadata": {},
   "outputs": [
    {
     "data": {
      "text/plain": [
       "processId         0\n",
       "userId            0\n",
       "mountNamespace    0\n",
       "processName       0\n",
       "hostName          0\n",
       "eventId           0\n",
       "argsNum           0\n",
       "returnValue       0\n",
       "args              0\n",
       "sus               0\n",
       "evil              0\n",
       "dtype: int64"
      ]
     },
     "execution_count": 17,
     "metadata": {},
     "output_type": "execute_result"
    }
   ],
   "source": [
    "# Count the missing values in each column\n",
    "len(data.index) - data.count()"
   ]
  },
  {
   "cell_type": "markdown",
   "id": "3e00a5fe-f6c2-4887-bd7f-03a5caa80f5f",
   "metadata": {},
   "source": [
    "Since the BETH dataset is already lightly preprocessed there are no missing values for us to handle."
   ]
  },
  {
   "cell_type": "code",
   "execution_count": 18,
   "id": "4b9c2082-b26e-4eff-bc04-e3c4fc534553",
   "metadata": {},
   "outputs": [
    {
     "name": "stdout",
     "output_type": "stream",
     "text": [
      "processName count:  260\n",
      "hostName count:  12\n",
      "eventId count:  46\n"
     ]
    }
   ],
   "source": [
    "# Category counts\n",
    "print(\"processName count: \", data['processName'].value_counts().count())\n",
    "print(\"hostName count: \", data['hostName'].value_counts().count())\n",
    "print(\"eventId count: \", data['eventId'].value_counts().count())"
   ]
  },
  {
   "cell_type": "code",
   "execution_count": 19,
   "id": "5c91ba41-d94b-4e44-a685-62bcdbc36457",
   "metadata": {},
   "outputs": [],
   "source": [
    "# Create pipeline for categorical features  \n",
    "cat_pipeline = Pipeline([(\"ordinal\", OrdinalEncoder())])\n",
    "# Creat column transformer\n",
    "categorical_cols = ['processName', 'hostName', 'eventId']\n",
    "preprocessing_data = ColumnTransformer([(\"cat\", cat_pipeline, categorical_cols)], remainder=\"passthrough\")\n",
    "preprocessing_ip = ColumnTransformer([(\"cat\", cat_pipeline, categorical_cols)], remainder=\"passthrough\")\n",
    "preprocessing_dns = ColumnTransformer([(\"cat\", cat_pipeline, categorical_cols)], remainder=\"passthrough\")"
   ]
  },
  {
   "cell_type": "markdown",
   "id": "9f5b2a56-c347-4f7d-afb7-529a94dba472",
   "metadata": {},
   "source": [
    "Using a OneHotEncoder could be more optimal in terms of accuracy when compared to an OrdinalEncoder because, with an OrdinalEncoder our machine learning algorithm will assume that nearby values are more similar than distant ones. However, since 'processName', 'hostName', and 'eventId' are composed of over 300 distinct categorgies one hot encoding becomes too computationally expensive"
   ]
  },
  {
   "cell_type": "code",
   "execution_count": 20,
   "id": "ee2feaf8-5c00-4dc9-8263-64923cca3281",
   "metadata": {},
   "outputs": [],
   "source": [
    "# Drop args and argNums (kept in previous DataFrame for graphing purposes)\n",
    "data_prepared = data.drop(columns=['args', 'argsNum'])\n",
    "data_prepared = preprocessing_data.fit_transform(data_prepared)\n",
    "# IP\n",
    "ip_prepared = data_ip.drop(columns=['args', 'argsNum'])\n",
    "ip_prepared = preprocessing_ip.fit_transform(ip_prepared)\n",
    "# DNS\n",
    "dns_prepared = data_dns.drop(columns=['args', 'argsNum'])\n",
    "dns_prepared = preprocessing_dns.fit_transform(dns_prepared)"
   ]
  },
  {
   "cell_type": "markdown",
   "id": "a29d27dc-5226-425c-8fd5-b0812e1f68c9",
   "metadata": {},
   "source": [
    "Args and argsNum dropped because parsing args requires some much more sophisticated pre-processing or a more complex machine learning model"
   ]
  },
  {
   "cell_type": "code",
   "execution_count": 21,
   "id": "a3249e5d-8669-4873-a58c-344bf78b9583",
   "metadata": {},
   "outputs": [],
   "source": [
    "# Convert the result to a dataframe\n",
    "data_prepared = pd.DataFrame(data_prepared, columns=preprocessing_data.get_feature_names_out())\n",
    "# IP\n",
    "ip_prepared = pd.DataFrame(ip_prepared, columns=preprocessing_ip.get_feature_names_out())\n",
    "# DNS\n",
    "dns_prepared = pd.DataFrame(dns_prepared, columns=preprocessing_dns.get_feature_names_out())\n",
    "# Combined \n",
    "combined_prepared = pd.concat([data_prepared, ip_prepared, dns_prepared])\n",
    "# Need to handle missing values for mountNamespace because the column doesn't exist for IP or DNS data (assume user processes (not OS))\n",
    "combined_prepared = combined_prepared.fillna(1)"
   ]
  },
  {
   "attachments": {},
   "cell_type": "markdown",
   "id": "210ce485-72be-47a3-8383-26d7a844c022",
   "metadata": {},
   "source": [
    "# Data visualization"
   ]
  },
  {
   "cell_type": "code",
   "execution_count": 22,
   "id": "0e162d9a-b0e7-43e6-820e-642dd5b7e514",
   "metadata": {},
   "outputs": [
    {
     "data": {
      "image/png": "[encoded data removed]",
      "text/plain": [
       "<Figure size 640x480 with 1 Axes>"
      ]
     },
     "metadata": {},
     "output_type": "display_data"
    }
   ],
   "source": [
    "# Bar plot\n",
    "processId_counts = data['processId'].value_counts()\n",
    "plt.bar(processId_counts.index, processId_counts.values)\n",
    "plt.xlabel('processId')\n",
    "plt.ylabel('Count')\n",
    "plt.title('Distribution of processId')\n",
    "plt.show()\n"
   ]
  },
  {
   "attachments": {},
   "cell_type": "markdown",
   "id": "269f00a5-5471-4667-981f-1b0ccdcdd8f8",
   "metadata": {},
   "source": [
    "- Bar plot: This plot displays the distribution of the 'processId' variable, showing the count for each unique value.oups.\n"
   ]
  },
  {
   "cell_type": "code",
   "execution_count": 23,
   "id": "03db3137-517c-45cf-acc4-b992c0755180",
   "metadata": {},
   "outputs": [
    {
     "data": {
      "image/png": "[encoded data removed]",
      "text/plain": [
       "<Figure size 640x480 with 1 Axes>"
      ]
     },
     "metadata": {},
     "output_type": "display_data"
    }
   ],
   "source": [
    "# Pie char\n",
    "userId_counts = data['userId'].value_counts()\n",
    "plt.pie(userId_counts.values, labels=['userId < 1000', 'userId ≥ 1000'], autopct='%1.1f%%')\n",
    "plt.title('Distribution of userId')\n",
    "plt.show()"
   ]
  },
  {
   "attachments": {},
   "cell_type": "markdown",
   "id": "1baed150-9677-47da-9cf8-4d76778d239c",
   "metadata": {},
   "source": [
    "- Pie chart: This chart represents the distribution of the 'userId' variable, showing the percentage of values categorized as 'userId < 1000' and 'userId ≥ 1000'."
   ]
  },
  {
   "cell_type": "code",
   "execution_count": 24,
   "id": "78b06fa0-1aeb-4fdb-b99d-af2549151eed",
   "metadata": {},
   "outputs": [
    {
     "data": {
      "image/png": "[encoded data removed]",
      "text/plain": [
       "<Figure size 640x480 with 1 Axes>"
      ]
     },
     "metadata": {},
     "output_type": "display_data"
    }
   ],
   "source": [
    "# Histogram\n",
    "plt.hist(data['argsNum'], bins=20)\n",
    "plt.xlabel('argsNum')\n",
    "plt.ylabel('Count')\n",
    "plt.title('Distribution of argsNum')\n",
    "plt.show()"
   ]
  },
  {
   "attachments": {},
   "cell_type": "markdown",
   "id": "94e342f1-c872-481e-bc28-165e28c6bc8c",
   "metadata": {},
   "source": [
    "- Histogram: This histogram visualizes the distribution of the 'argsNum' variable, dividing it into 20 bins."
   ]
  },
  {
   "cell_type": "code",
   "execution_count": 25,
   "id": "89a85a36-bccb-45f5-8928-c9be30485c6a",
   "metadata": {},
   "outputs": [
    {
     "data": {
      "image/png": "[encoded data removed]",
      "text/plain": [
       "<Figure size 640x480 with 1 Axes>"
      ]
     },
     "metadata": {},
     "output_type": "display_data"
    }
   ],
   "source": [
    "# Scatter plot of processName vs returnValue\n",
    "plt.scatter(data['processName'], data['returnValue'])\n",
    "plt.xlabel('processName')\n",
    "plt.ylabel('returnValue')\n",
    "plt.title('Scatter Plot of processName vs. returnValue')\n",
    "plt.show()"
   ]
  },
  {
   "attachments": {},
   "cell_type": "markdown",
   "id": "d31ff294-7214-4460-a418-6aefc7a8636b",
   "metadata": {},
   "source": [
    "- Scatter plot: This scatter plot illustrates the relationship between the 'processName' and 'returnValue' variables."
   ]
  },
  {
   "cell_type": "code",
   "execution_count": 26,
   "id": "1b599865-d5bd-4e6a-b3ce-f82f280a26e5",
   "metadata": {},
   "outputs": [
    {
     "data": {
      "image/png": "[encoded data removed]",
      "text/plain": [
       "<Figure size 640x480 with 1 Axes>"
      ]
     },
     "metadata": {},
     "output_type": "display_data"
    }
   ],
   "source": [
    "# Box plot of mountNamespace\n",
    "data.boxplot(column='mountNamespace')\n",
    "plt.ylabel('mountNamespace')\n",
    "plt.title('Box Plot of mountNamespace')\n",
    "plt.show()"
   ]
  },
  {
   "attachments": {},
   "cell_type": "markdown",
   "id": "6bace871-27f5-4b27-accb-d7ce08cf3576",
   "metadata": {},
   "source": [
    "- Box plot: This box plot provides an overview of the 'mountNamespace' variable, showing its distribution and any potential outliers."
   ]
  },
  {
   "cell_type": "code",
   "execution_count": 27,
   "id": "da1701d1-11e3-4aef-a32a-3017dce3b1b5",
   "metadata": {},
   "outputs": [
    {
     "data": {
      "image/png": "[encoded data removed]",
      "text/plain": [
       "<Figure size 640x480 with 1 Axes>"
      ]
     },
     "metadata": {},
     "output_type": "display_data"
    }
   ],
   "source": [
    "# Stacked bar plot of processID and userID\n",
    "process_user_counts = data.groupby(['processId', 'userId']).size().unstack()\n",
    "process_user_counts.plot(kind='bar', stacked=True)\n",
    "plt.xlabel('processId')\n",
    "plt.ylabel('Count')\n",
    "plt.title('Stacked Bar Plot of processId and userId')\n",
    "plt.legend(title='userId')\n",
    "plt.show()"
   ]
  },
  {
   "attachments": {},
   "cell_type": "markdown",
   "id": "3b271b09-e2bf-4729-8af0-3c647f58a21c",
   "metadata": {},
   "source": [
    "- Stacked bar plot: This plot demonstrates the relationship between 'processId' and 'userId' variables, displaying the count for each 'processId' with stacked bars representing different 'userId' categories."
   ]
  },
  {
   "cell_type": "code",
   "execution_count": 28,
   "id": "b4a89aa8-10a0-4669-b080-9f6864b3d636",
   "metadata": {},
   "outputs": [
    {
     "data": {
      "image/png": "[encoded data removed]",
      "text/plain": [
       "<Figure size 640x480 with 1 Axes>"
      ]
     },
     "metadata": {},
     "output_type": "display_data"
    }
   ],
   "source": [
    "# Box plot of returnValue grouped by processID\n",
    "data.boxplot(column='returnValue', by='processId')\n",
    "plt.xlabel('processId')\n",
    "plt.ylabel('returnValue')\n",
    "plt.title('Box Plot of returnValue Grouped by processId')\n",
    "plt.suptitle('')\n",
    "plt.show()\n"
   ]
  },
  {
   "attachments": {},
   "cell_type": "markdown",
   "id": "46871e93-3c6c-4181-9162-77d93cf526b1",
   "metadata": {},
   "source": [
    "- Box plot grouped by processId: This box plot shows the distribution of the 'returnValue' variable for each 'processId' value, allowing for comparison between groups."
   ]
  },
  {
   "attachments": {},
   "cell_type": "markdown",
   "id": "a4cbbd63-1306-4374-85d6-e3f5350ffd51",
   "metadata": {},
   "source": [
    "# Data processing"
   ]
  },
  {
   "cell_type": "markdown",
   "id": "101fb130-d4f5-4004-a4d0-5f7ee14c1706",
   "metadata": {},
   "source": [
    "## Split data"
   ]
  },
  {
   "cell_type": "code",
   "execution_count": 29,
   "id": "9c0c3774-0147-484f-bb4b-f63b0352fce7",
   "metadata": {},
   "outputs": [],
   "source": [
    "# Prepare data\n",
    "data_x = data_prepared.drop(columns=['remainder__sus','remainder__evil'])\n",
    "data_y = data_prepared[['remainder__sus','remainder__evil']].copy()\n",
    "\n",
    "data_x_train, data_x_test, data_y_train, data_y_test = train_test_split(data_x, data_y, train_size=0.6, random_state=SEED)\n",
    "\n",
    "# IP\n",
    "ip_x = ip_prepared.drop(columns=['remainder__sus','remainder__evil'])\n",
    "ip_y = ip_prepared[['remainder__sus','remainder__evil']].copy()\n",
    "\n",
    "ip_x_train, ip_x_test, ip_y_train, ip_y_test = train_test_split(ip_x, ip_y, train_size=0.6, random_state=SEED)\n",
    "\n",
    "# DNS \n",
    "dns_x = dns_prepared.drop(columns=['remainder__sus','remainder__evil'])\n",
    "dns_y = dns_prepared[['remainder__sus','remainder__evil']].copy()\n",
    "dns_x_train, dns_x_test, dns_y_train, dns_y_test = train_test_split(dns_x, dns_y, train_size=0.6, random_state=SEED)\n",
    "\n",
    "# Combined\n",
    "combined_x = combined_prepared.drop(columns=['remainder__sus','remainder__evil'])\n",
    "combined_y = combined_prepared[['remainder__sus','remainder__evil']].copy()\n",
    "\n",
    "combined_x_train, combined_x_test, combined_y_train, combined_y_test = train_test_split(combined_x, combined_y, train_size=0.6, random_state=SEED)"
   ]
  },
  {
   "attachments": {},
   "cell_type": "markdown",
   "id": "2eab6d91-c003-4f19-a7ba-03456e35cd72",
   "metadata": {},
   "source": [
    "Split the data into training and testing sets. The code separates the input features and the target variables. It drops the columns 'remainder__sus' and 'remainder__evil' from the input features and creates a copy of the target variables. Then, it uses the `train_test_split` function to split the data into a 60% training set and a 40% testing set, using the specified random state.\n"
   ]
  },
  {
   "attachments": {},
   "cell_type": "markdown",
   "id": "08a9174f-9aa3-4e36-b244-943f7dcb9eb7",
   "metadata": {},
   "source": [
    "The BETH Dataset already gives us the data split into training, testing, and validation sets, but since these sets were concatenated for preprocessing, we end up with a distribution that differs from the original after using train_test_split(...). If we wanted to preserve the BETH dataset's distribution, we could alternatively preprocess these sets individually instead of concatenating them."
   ]
  },
  {
   "cell_type": "markdown",
   "id": "b5a3e1e3-5a62-4162-835b-98a45b226678",
   "metadata": {},
   "source": [
    "## Evaluate models"
   ]
  },
  {
   "cell_type": "markdown",
   "id": "c7af3a3a-7af1-4b90-a0e3-31825c1b7f82",
   "metadata": {},
   "source": [
    "Experiments with different models to see which ones can best predict targets for the kernel logs data"
   ]
  },
  {
   "cell_type": "code",
   "execution_count": 30,
   "id": "9c0b2e37-e8ad-45dc-9bfa-d45836310469",
   "metadata": {},
   "outputs": [],
   "source": [
    "def plot_cm(cm):\n",
    "    fig, (ax1,ax2) = plt.subplots(1,2,figsize=(12,5))\n",
    "    \n",
    "    sns.heatmap(cm[0], annot=True, fmt='g', ax=ax1)\n",
    "    ax1.set_xlabel('Predicted labels')\n",
    "    ax1.set_ylabel('Actual labels') \n",
    "    ax1.set_title('Sus Confusion Matrix') \n",
    "    ax1.xaxis.set_ticklabels(['True', 'False']) \n",
    "    ax1.yaxis.set_ticklabels(['True', 'False'])\n",
    "    \n",
    "    sns.heatmap(cm[1], annot=True, fmt='g', ax=ax2)\n",
    "    ax2.set_xlabel('Predicted labels')\n",
    "    ax2.set_ylabel('True labels');\n",
    "    ax2.set_title('Confusion Matrix') \n",
    "    ax2.xaxis.set_ticklabels(['True', 'False'])\n",
    "    ax2.yaxis.set_ticklabels(['True', 'False'])\n",
    "    \n",
    "    plt.show()\n",
    "\n",
    "def print_scores(precision,recall,f_score):\n",
    "    print(\"precision sus:\\t %2.4f \\tprecision evil:\\t %2.4f\" % (precision[0],precision[1]))\n",
    "    print(\"recall sus:\\t %2.4f \\trecall evil:\\t %2.4f\" % (recall[0],recall[1]))\n",
    "    print(\"f_score sus:\\t %2.4f \\tf_score evil:\\t %2.4f\" % (f_score[0],f_score[1]))"
   ]
  },
  {
   "cell_type": "code",
   "execution_count": null,
   "id": "3e76c59a-0fd8-4386-907a-a9c0db758590",
   "metadata": {},
   "outputs": [],
   "source": [
    "# Support vector classifier \n",
    "# Since we have two target variables we have to use a MultiOutputRegressor, which works by fitting one model per target \n",
    "svc = MultiOutputClassifier(LinearSVC(random_state=SEED));\n",
    "svc = svc.fit(data_x_train, data_y_train)\n",
    "\n",
    "data_y_pred = svc.predict(data_x_test)\n",
    "\n",
    "cm = multilabel_confusion_matrix(data_y_test, data_y_pred)\n",
    "plot_cm(cm)"
   ]
  },
  {
   "cell_type": "code",
   "execution_count": null,
   "id": "f7d2abaa-8255-4d9c-8790-a674a32633f1",
   "metadata": {},
   "outputs": [],
   "source": [
    "precision, recall, f_score, support = precision_recall_fscore_support(data_y_test, data_y_pred, average=None)\n",
    "print_scores(precision,recall,f_score)"
   ]
  },
  {
   "attachments": {},
   "cell_type": "markdown",
   "id": "9ee5112f-44ff-458d-9dfa-b99410cf60fc",
   "metadata": {},
   "source": [
    "Support vector classifier performs quite poorly and takes a long time to compute. One reason might be because it does not calculate outputs simultaneously to take correlations between outputs into account. In other words, if a i point is deemed 'sus' it won't have any influence on whether the  point is classified as 'evil'. "
   ]
  },
  {
   "cell_type": "code",
   "execution_count": null,
   "id": "c69fcb0b-d365-4d94-9fa2-4d91391dcecf",
   "metadata": {},
   "outputs": [],
   "source": [
    "# Decision tree classifier \n",
    "tree_clf = DecisionTreeClassifier(random_state=SEED)\n",
    "tree_clf = tree_clf.fit(data_x_train, data_y_train)\n",
    "\n",
    "data_y_pred = tree_clf.predict(data_x_test)\n",
    "\n",
    "cm = multilabel_confusion_matrix(data_y_test, data_y_pred)\n",
    "plot_cm(cm)"
   ]
  },
  {
   "cell_type": "code",
   "execution_count": null,
   "id": "fb728192-559d-4ae7-b99e-7fe6fcd48ebe",
   "metadata": {},
   "outputs": [],
   "source": [
    "precision, recall, f_score, support = precision_recall_fscore_support(data_y_test, data_y_pred, average=None)\n",
    "print_scores(precision,recall,f_score)"
   ]
  },
  {
   "attachments": {},
   "cell_type": "markdown",
   "id": "93d6c0d6-9d6c-4598-9a7a-2d10aa3cb230",
   "metadata": {},
   "source": [
    "Only having 4 'evil' instances missclasified is very good. In contrast to our previous SVC, decision trees are inherently better suited for multi-target classifications since they are able to take correlations between outputs into account."
   ]
  },
  {
   "cell_type": "code",
   "execution_count": null,
   "id": "a55b0227-e437-4117-bf44-0b7e1b78e228",
   "metadata": {},
   "outputs": [],
   "source": [
    "# Random forest classifier \n",
    "forest_reg = RandomForestClassifier(random_state=SEED)\n",
    "tree_clf = tree_clf.fit(data_x_train, data_y_train)\n",
    "\n",
    "data_y_pred = tree_clf.predict(data_x_test)\n",
    "\n",
    "cm = multilabel_confusion_matrix(data_y_test, data_y_pred)\n",
    "plot_cm(cm)"
   ]
  },
  {
   "cell_type": "code",
   "execution_count": null,
   "id": "a72bdf8c-ec7e-4eb8-930a-7648d9e742fa",
   "metadata": {},
   "outputs": [],
   "source": [
    "precision, recall, f_score, support = precision_recall_fscore_support(data_y_test, data_y_pred, average=None)\n",
    "print_scores(precision,recall,f_score)"
   ]
  },
  {
   "attachments": {},
   "cell_type": "markdown",
   "id": "31ce9c7b-967b-402b-a08c-27246d6cd0ce",
   "metadata": {},
   "source": [
    "There is no significant improvement with random forest when compared to a singular decision tree "
   ]
  },
  {
   "cell_type": "code",
   "execution_count": null,
   "id": "3f191c8d-b86c-484e-ae5a-2c9ac3798f24",
   "metadata": {},
   "outputs": [],
   "source": [
    "# SGD classifier\n",
    "sgd_clf = MultiOutputClassifier(SGDClassifier(random_state=SEED))\n",
    "sgd_clf.fit(data_x_train, data_y_train)\n",
    "\n",
    "data_y_pred = sgd_clf.predict(data_x_test)\n",
    "\n",
    "cm = multilabel_confusion_matrix(data_y_test, data_y_pred)\n",
    "plot_cm(cm)"
   ]
  },
  {
   "cell_type": "code",
   "execution_count": null,
   "id": "bd2b0be4-b6af-4074-a5b7-a54bfd8176d3",
   "metadata": {},
   "outputs": [],
   "source": [
    "precision, recall, f_score, support = precision_recall_fscore_support(data_y_test, data_y_pred, average=None)\n",
    "print_scores(precision,recall,f_score)"
   ]
  },
  {
   "cell_type": "markdown",
   "id": "4a1ba8b6-c2fc-4890-8b41-f15801e0513a",
   "metadata": {},
   "source": [
    "The SGD classifier performs the worst so far"
   ]
  },
  {
   "cell_type": "markdown",
   "id": "e9ee8c4b-601a-414b-888c-101047eef9ce",
   "metadata": {},
   "source": [
    "## Fine-tune Model\n",
    "As the best default model for this dataset was decision trees, we will use that as our base model, and tweak the parameters to get the best possible outcome."
   ]
  },
  {
   "cell_type": "markdown",
   "id": "6f71c810-0a02-479b-9fac-d9faf1b48fa2",
   "metadata": {},
   "source": [
    "### Training set size"
   ]
  },
  {
   "cell_type": "markdown",
   "id": "f1567c2e-26e2-43ef-93e4-718044b2b213",
   "metadata": {},
   "source": [
    "These first tests test training set size, and plot their values along with the corresponding accuracy."
   ]
  },
  {
   "cell_type": "code",
   "execution_count": null,
   "id": "68db1765-32ca-4db3-a92a-5fb748a5a14e",
   "metadata": {},
   "outputs": [],
   "source": [
    "# initialize error lists\n",
    "t_train_error = list()\n",
    "t_test_error = list()\n",
    "\n",
    "# set range of test values\n",
    "test_sizes = np.linspace(0.1,0.9,num=8)\n",
    "\n",
    "# run classifier for each test value\n",
    "for i in tqdm(test_sizes,desc=\"Test Size Progress\",bar_format=bar_format):\n",
    "    X_train, X_test, y_train, y_test = train_test_split(data_x, data_y, test_size=i, random_state=SEED)\n",
    "\n",
    "    clf = DecisionTreeClassifier(random_state=SEED)\n",
    "    clf = clf.fit(X_train,y_train)\n",
    "\n",
    "    t_train_error.append(clf.score(X_train,y_train))\n",
    "    t_test_error.append(clf.score(X_test,y_test))\n",
    "\n",
    "# plot resulting accuracy \n",
    "plt.plot(test_sizes, t_test_error, marker='|', c=colours[0], label=\"Test\")\n",
    "plt.plot(test_sizes, t_train_error, marker='|', c=colours[1], label = \"Train\")\n",
    "\n",
    "plt.title(\"Decision Tree Training Set Size vs Accuracy\")\n",
    "plt.xlabel(\"Test Size\")\n",
    "plt.ylabel(\"Accuracy\")\n",
    "\n",
    "plt.legend(loc=\"right\")\n",
    "plt.show()\n"
   ]
  },
  {
   "cell_type": "markdown",
   "id": "531bc13a-8280-49e3-8714-f7077145fb73",
   "metadata": {},
   "source": [
    "As you can see, we achieve our most optimal accuracy at a test size of around 40%. While training error does have a higher peak after 70%, the corresponding testing error is quite low, which implies overfitting."
   ]
  },
  {
   "cell_type": "code",
   "execution_count": null,
   "id": "d096bc78-26e1-4e85-a58d-f0034768a74b",
   "metadata": {},
   "outputs": [],
   "source": [
    "optimal_test_size = 0.4"
   ]
  },
  {
   "cell_type": "markdown",
   "id": "2794a8e0-eb23-47b3-9a65-a517cf2ca2fc",
   "metadata": {},
   "source": [
    "### Maximum Depth"
   ]
  },
  {
   "cell_type": "code",
   "execution_count": null,
   "id": "3ad5b60a-bb89-4199-801d-80df7ac16908",
   "metadata": {},
   "outputs": [],
   "source": [
    "# initialize error lists\n",
    "md_train_error = list()\n",
    "md_test_error = list()\n",
    "\n",
    "# set range of test values\n",
    "depths = np.arange(1,21)\n",
    "\n",
    "# run classifier for each test value\n",
    "for i in tqdm(depths,desc=\"Max Depth Progress\",bar_format=bar_format):\n",
    "    X_train, X_test, y_train, y_test = train_test_split(data_x, data_y, test_size=optimal_test_size, shuffle=True, random_state=SEED)\n",
    "\n",
    "    clf = DecisionTreeClassifier(max_depth=i, random_state=SEED)\n",
    "    clf = clf.fit(X_train,y_train)\n",
    "\n",
    "    md_train_error.append(clf.score(X_train,y_train))\n",
    "    md_test_error.append(clf.score(X_test,y_test))\n",
    "\n",
    "# plot resulting accuracy \n",
    "plt.plot(depths, md_test_error, marker='|', c=colours[0], label=\"Test\")\n",
    "plt.plot(depths, md_train_error, marker='|', c=colours[1], label = \"Train\")\n",
    "\n",
    "plt.title(\"Decision Tree Max Depth vs Accuracy\")\n",
    "plt.xlabel(\"Max Depth\")\n",
    "plt.ylabel(\"Accuracy\")\n",
    "\n",
    "plt.legend(loc=\"right\")\n",
    "plt.show()"
   ]
  },
  {
   "cell_type": "markdown",
   "id": "5ad37e22-0c7b-48bd-8165-e7c6692c19cc",
   "metadata": {},
   "source": [
    "As you can see, our accuracy peaks and stabalizes at a max depth of around 10."
   ]
  },
  {
   "cell_type": "code",
   "execution_count": null,
   "id": "95f9259b-6554-4911-b92e-1ab53e35044b",
   "metadata": {},
   "outputs": [],
   "source": [
    "optimal_max_depth = 10"
   ]
  },
  {
   "cell_type": "markdown",
   "id": "6a4f0c82-6344-430e-897b-4ed185d76ae4",
   "metadata": {},
   "source": [
    "### Split Criterion"
   ]
  },
  {
   "cell_type": "code",
   "execution_count": null,
   "id": "24a8b5aa-f608-4734-8e84-7bbf3229b81e",
   "metadata": {},
   "outputs": [],
   "source": [
    "# initialize error lists\n",
    "c_train_error = list()\n",
    "c_test_error = list()\n",
    "\n",
    "# set range of test values\n",
    "criterion = \"gini\",\"entropy\",\"log_loss\"\n",
    "\n",
    "# run classifier for each test value\n",
    "for i in tqdm(criterion,desc=\"Criterion Progress\",bar_format=bar_format):\n",
    "    X_train, X_test, y_train, y_test = train_test_split(data_x, data_y, test_size=optimal_test_size, shuffle=True, random_state=SEED)\n",
    "\n",
    "    clf = DecisionTreeClassifier(max_depth=optimal_max_depth, criterion=i, random_state=SEED)\n",
    "    clf = clf.fit(X_train,y_train)\n",
    "\n",
    "    c_train_error.append(clf.score(X_train,y_train))\n",
    "    c_test_error.append(clf.score(X_test,y_test))\n",
    "\n",
    "# plot resulting accuracy \n",
    "plt.plot(criterion, c_test_error, marker='|', c=colours[0], label=\"Test\")\n",
    "plt.plot(criterion, c_train_error, marker='|', c=colours[1], label = \"Train\")\n",
    "\n",
    "plt.title(\"Decision Tree Criterion vs Accuracy\")\n",
    "plt.xlabel(\"Criterion\")\n",
    "plt.ylabel(\"Accuracy\")\n",
    "\n",
    "plt.legend(loc=\"right\")\n",
    "plt.show()"
   ]
  },
  {
   "cell_type": "markdown",
   "id": "aed8d095-7999-494e-a813-d8ac1ab8c937",
   "metadata": {},
   "source": [
    "From this test it can be seen that the best split criterion for this particular model and dataset is either entropy or log loss. Gini has a more accurate training set, however the test set accuracy suffers as a result, indication overfitting."
   ]
  },
  {
   "cell_type": "code",
   "execution_count": null,
   "id": "0f1b8764-c062-49b2-a522-bd59742fa65f",
   "metadata": {},
   "outputs": [],
   "source": [
    "optimal_criterion = \"entropy\""
   ]
  },
  {
   "cell_type": "markdown",
   "id": "94ed0566-a3ff-4f46-836d-b0289b17e654",
   "metadata": {},
   "source": [
    "## Compare kernel, IP, and DNS models"
   ]
  },
  {
   "cell_type": "markdown",
   "id": "9d743563-b084-4b39-8a78-d83b59150c45",
   "metadata": {},
   "source": [
    "From our testing in the previous section, it is easy to see that a DecisionTreeClassifier is a perfect fit for our application, both in terms of accuracy and computational cost. Now the question remains as to what data is best for predicting our tragets between kernel, IP, and DNS logs. If the individual models perform similarly, can we improve that performance by making a model that considers all the logs together? "
   ]
  },
  {
   "cell_type": "code",
   "execution_count": null,
   "id": "cd48f54a-b604-40f2-8114-3c8940ab229b",
   "metadata": {},
   "outputs": [],
   "source": [
    " X_train, X_test, y_train, y_test = train_test_split(data_x, data_y, test_size=optimal_test_size, shuffle=True, random_state=SEED)"
   ]
  },
  {
   "cell_type": "code",
   "execution_count": null,
   "id": "a17229a8-2496-4a9a-ac7a-0af3a4e6269c",
   "metadata": {},
   "outputs": [],
   "source": [
    "# Initialize classifiers\n",
    "data_clf = DecisionTreeClassifier(max_depth=optimal_max_depth, criterion=optimal_criterion)\n",
    "ip_clf = DecisionTreeClassifier(max_depth=optimal_max_depth, criterion=optimal_criterion)\n",
    "dns_clf = DecisionTreeClassifier(max_depth=optimal_max_depth, criterion=optimal_criterion)\n",
    "combined_clf = DecisionTreeClassifier(max_depth=optimal_max_depth, criterion=optimal_criterion)"
   ]
  },
  {
   "cell_type": "code",
   "execution_count": null,
   "id": "cf9ee4bc-5a9a-4f99-a1e0-c5e6964af2dc",
   "metadata": {},
   "outputs": [],
   "source": [
    "# Fit classifiers\n",
    "data_clf = data_clf.fit(data_x_train, data_y_train)\n",
    "ip_clf = ip_clf.fit(ip_x_train, ip_y_train)\n",
    "dns_clf = dns_clf.fit(dns_x_train, dns_y_train)\n",
    "combined_clf = combined_clf.fit(combined_x_train, combined_y_train)"
   ]
  },
  {
   "cell_type": "code",
   "execution_count": null,
   "id": "af399bad-c0ed-4ee7-bcfe-17f1fad14ec4",
   "metadata": {},
   "outputs": [],
   "source": [
    "# Get predictions\n",
    "data_y_pred = data_clf.predict(data_x_test)\n",
    "ip_y_pred = ip_clf.predict(ip_x_test)\n",
    "dns_y_pred = dns_clf.predict(dns_x_test)\n",
    "combined_y_pred = combined_clf.predict(combined_x_test)"
   ]
  },
  {
   "cell_type": "code",
   "execution_count": null,
   "id": "1588a0ab-b96e-4a8c-8f05-d830c683ca16",
   "metadata": {},
   "outputs": [],
   "source": [
    "# Compute confusion matrices\n",
    "data_cm = multilabel_confusion_matrix(data_y_test, data_y_pred)\n",
    "plot_cm(data_cm)"
   ]
  },
  {
   "cell_type": "code",
   "execution_count": null,
   "id": "38e82506-8276-4077-afe5-b363ddb9e549",
   "metadata": {},
   "outputs": [],
   "source": [
    "precision, recall, f_score, support = precision_recall_fscore_support(data_y_test, data_y_pred, average=None)\n",
    "print_scores(precision,recall,f_score)"
   ]
  },
  {
   "cell_type": "code",
   "execution_count": null,
   "id": "e843ce8c-10a8-40e3-a8d2-97b27398e8c7",
   "metadata": {},
   "outputs": [],
   "source": [
    "ip_cm = multilabel_confusion_matrix(ip_y_test, ip_y_pred)\n",
    "plot_cm(ip_cm)"
   ]
  },
  {
   "cell_type": "code",
   "execution_count": null,
   "id": "0efbbe4c-8a34-4ea5-8a82-ed1914ada8ba",
   "metadata": {},
   "outputs": [],
   "source": [
    "precision, recall, f_score, support = precision_recall_fscore_support(ip_y_test, ip_y_pred, average=None)\n",
    "print_scores(precision,recall,f_score)"
   ]
  },
  {
   "cell_type": "code",
   "execution_count": null,
   "id": "107a1f6f-3fda-402e-8e32-a3815a73136f",
   "metadata": {},
   "outputs": [],
   "source": [
    "dns_cm = multilabel_confusion_matrix(dns_y_test, dns_y_pred)\n",
    "plot_cm(dns_cm)"
   ]
  },
  {
   "cell_type": "code",
   "execution_count": null,
   "id": "3ede8743-2bfd-4fcd-a654-03d461b4b852",
   "metadata": {},
   "outputs": [],
   "source": [
    "precision, recall, f_score, support = precision_recall_fscore_support(dns_y_test, dns_y_pred, average=None)\n",
    "print_scores(precision,recall,f_score)"
   ]
  },
  {
   "cell_type": "code",
   "execution_count": null,
   "id": "a6f6dbb5-0a5d-48c6-af2d-dbeb3a1cb9e1",
   "metadata": {},
   "outputs": [],
   "source": [
    "combined_cm = multilabel_confusion_matrix(combined_y_test, combined_y_pred)\n",
    "plot_cm(combined_cm)"
   ]
  },
  {
   "cell_type": "code",
   "execution_count": null,
   "id": "b940c182-8a3c-479b-b6c7-23416915f467",
   "metadata": {},
   "outputs": [],
   "source": [
    "precision, recall, f_score, support = precision_recall_fscore_support(combined_y_test, combined_y_pred, average=None)\n",
    "print_scores(precision,recall,f_score)"
   ]
  },
  {
   "cell_type": "markdown",
   "id": "a5134eae-8f8b-404f-9cab-06ae3f2d8599",
   "metadata": {},
   "source": [
    "# Conclusion"
   ]
  },
  {
   "cell_type": "markdown",
   "id": "bf3e8317-c6e7-4cfa-aa07-89fd1f8ff58e",
   "metadata": {},
   "source": [
    "In conclusion, after conducting model selection, fine-tuning, and consolidating various sensor logs, the Decision Tree classifier emerged as the best-fitting model for the BETH dataset in the context of anomaly detection in cybersecurity. The evaluation of multiple default models initially provided a foundation for comparison, and subsequent fine-tuning further optimized the Decision Tree model's performance.\n",
    "\n",
    "The refined Decision Tree classifier, after incorporating the insights gained from the data processing steps, demonstrated exceptional precision rates. Specifically, it achieved a remarkable precision of 98.5% on the 'suspicious' label, indicating its ability to accurately identify instances that exhibited potentially suspicious behavior. Additionally, the model achieved an impressive precision of 99.1% on the 'evil' label, effectively capturing instances associated with malicious activities.\n",
    "\n",
    "Furthermore, our decision tree classifier demonstrated outstanding recall values, capturing a significant proportion of relevant instances. On the 'suspicious' label, the classifier achieved a recall of 98.7%, ensuring that it can effectively identify a vast majority of instances that truly represent suspicious behavior. Similarly, the recall on the 'evil' label reached an impressive 99.7%, ensuring minimal false negatives and highlighting the classifier's capability in detecting instances related to highly malicious activities.\n",
    "\n",
    "The f-scores, which provide a balanced measure of precision and recall, further emphasize the effectiveness of our decision tree classifier. With an f-score of 98.6% on the 'suspicious' label and an exceptional f-score of 99.4% on the 'evil' label, our model demonstrates robust performance in accurately identifying anomalies and potential threats within the cybersecurity dataset.\n",
    "\n",
    "These exceptional performance metrics underscore the suitability and effectiveness of the decision tree classifier in detecting anomalies within the BETH dataset. By achieving high precision, recall, and f-scores on both the 'suspicious' and 'evil' labels, our model provides a strong foundation for enhancing cybersecurity measures and mitigating potential threats.\n",
    "\n",
    "However, it's essential to acknowledge the limitations of our study. The performance of the decision tree classifier and the reported metrics heavily relies on the quality and representativeness of the BETH dataset. Furthermore, as the cybersecurity landscape continually evolves, it is crucial to regularly update and adapt the model to address emerging threats and challenges.\n",
    "\n",
    "Further research and experimentation could explore additional refinements, such as ensemble techniques or incorporating other advanced machine learning algorithms, to further improve the performance of the Decision Tree model and advance anomaly detection capabilities in cybersecurity using the BETH dataset."
   ]
  },
  {
   "attachments": {},
   "cell_type": "markdown",
   "id": "994d9fbc-4e74-4d6c-94e6-26b8c47c8235",
   "metadata": {},
   "source": [
    "# References"
   ]
  },
  {
   "attachments": {},
   "cell_type": "markdown",
   "id": "1f653ede-70bb-49ff-b36d-7cd345c82820",
   "metadata": {},
   "source": [
    "[1] C. Wiens, “What is anomaly detection in cybersecurity?,” Security Boulevard, https://securityboulevard.com/2021/07/what-is-anomaly-detection-in-cybersecurity/ (accessed Jun. 30, 2023). \n",
    "\n",
    "[2] K. Highnam, K. Arulkumaran, Z. Hanif, and N. R. Jennings, “Beth Dataset: Real cybersecurity data for Anomaly Detection Research - UCL,” BETH Dataset: Real Cybersecurity Data for Anomaly Detection Research, http://www.gatsby.ucl.ac.uk/~balaji/udl2021/accepted-papers/UDL2021-paper-033.pdf (accessed Jun. 20, 2023). "
   ]
  }
 ],
 "metadata": {
  "kernelspec": {
   "display_name": "Python 3 (ipykernel)",
   "language": "python",
   "name": "python3"
  },
  "language_info": {
   "codemirror_mode": {
    "name": "ipython",
    "version": 3
   },
   "file_extension": ".py",
   "mimetype": "text/x-python",
   "name": "python",
   "nbconvert_exporter": "python",
   "pygments_lexer": "ipython3",
   "version": "3.11.4"
  }
 },
 "nbformat": 4,
 "nbformat_minor": 5
}
